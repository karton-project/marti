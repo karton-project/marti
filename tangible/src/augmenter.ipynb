{
 "cells": [
  {
   "cell_type": "code",
   "execution_count": 5,
   "metadata": {},
   "outputs": [],
   "source": [
    "from numpy import expand_dims\n",
    "from tensorflow.keras.preprocessing.image import load_img\n",
    "from tensorflow.keras.preprocessing.image import img_to_array\n",
    "from tensorflow.keras.preprocessing.image import ImageDataGenerator\n",
    "from matplotlib import pyplot\n",
    "from PIL import Image\n",
    "import glob\n",
    "import os\n",
    "import shutil"
   ]
  },
  {
   "cell_type": "code",
   "execution_count": 6,
   "metadata": {},
   "outputs": [],
   "source": [
    "i = 0\n",
    "image_list = []\n",
    "base_dir = '/home/asabuncuoglu13/Desktop/edu-repo/marti/'\n",
    "data_dir = base_dir + 'data/images'\n",
    "val_dir = base_dir + 'data/validation'\n",
    "if os.path.exists(data_dir):\n",
    "    shutil.rmtree(data_dir)\n",
    "if os.path.exists(val_dir):\n",
    "    shutil.rmtree(val_dir)\n",
    "os.makedirs(data_dir)\n",
    "os.makedirs(val_dir)"
   ]
  },
  {
   "cell_type": "code",
   "execution_count": 10,
   "metadata": {},
   "outputs": [],
   "source": [
    "datagen = ImageDataGenerator(\n",
    "    rotation_range=20,\n",
    "    zoom_range=0.15,\n",
    "    width_shift_range=0.2,\n",
    "    height_shift_range=0.2,\n",
    "    brightness_range=(0.6, 1.0),\n",
    "    shear_range=0.15,\n",
    "    horizontal_flip=True,\n",
    "    fill_mode=\"nearest\")"
   ]
  },
  {
   "cell_type": "code",
   "execution_count": 11,
   "metadata": {},
   "outputs": [
    {
     "name": "stdout",
     "output_type": "stream",
     "text": [
      "add-marker\n",
      "average\n",
      "chart-bar\n",
      "chart-line\n",
      "chart-pie\n",
      "column-headers\n",
      "count\n",
      "create-table\n",
      "data-bike\n",
      "data-football\n",
      "data-forest\n",
      "data-plastic\n",
      "data-research\n",
      "filter-table\n",
      "filter\n",
      "function\n",
      "get-column\n",
      "maximum\n",
      "minimum\n",
      "open-map\n",
      "peak-values\n",
      "sum\n",
      "unique-values\n",
      "variable\n"
     ]
    }
   ],
   "source": [
    "for filename in sorted(glob.glob(base_dir + 'media/cards-en/*.png')):\n",
    "    bname = os.path.basename(filename)[:-4]\n",
    "    print(bname)\n",
    "    # create new folder for each augmented image\n",
    "    alt_dir = data_dir + '/' + bname + '/'\n",
    "    alt_val_dir = val_dir + '/' + bname + '/'\n",
    "    os.makedirs(alt_dir)\n",
    "    os.makedirs(alt_val_dir)\n",
    "\n",
    "    im = Image.open(filename)\n",
    "    im = im.resize((224, 224), Image.ANTIALIAS)\n",
    "\n",
    "    # convert to numpy array\n",
    "    data = img_to_array(im)\n",
    "    # expand dimension to one sample\n",
    "    samples = expand_dims(data, 0)\n",
    "    # create image data augmentation generator\n",
    "    dflow = datagen.flow(samples, batch_size=1, save_to_dir=alt_dir,\n",
    "                         save_prefix=\"aug\", save_format=\"png\",)\n",
    "\n",
    "    k = 0\n",
    "    for batch in dflow:\n",
    "        k += 1\n",
    "        if k > 50:\n",
    "            break  # otherwise the generator would loop indefinitely\n",
    "\n",
    "    vflow = datagen.flow(samples, batch_size=1, save_to_dir=alt_val_dir,\n",
    "                         save_prefix=\"val\", save_format=\"png\",)\n",
    "\n",
    "    j = 0\n",
    "    for batch in vflow:\n",
    "        j += 1\n",
    "        if j > 10:\n",
    "            break  # otherwise the generator would loop indefinitely"
   ]
  },
  {
   "cell_type": "code",
   "execution_count": 13,
   "metadata": {},
   "outputs": [
    {
     "name": "stdout",
     "output_type": "stream",
     "text": [
      "add-marker\n",
      "average\n",
      "chart-bar\n",
      "chart-line\n",
      "chart-pie\n",
      "column-headers\n",
      "count\n",
      "create-table\n",
      "data-bike\n",
      "data-football\n",
      "data-forest\n",
      "data-plastic\n",
      "data-research\n",
      "filter-table\n",
      "filter\n",
      "function\n",
      "get-column\n",
      "maximum\n",
      "minimum\n",
      "open-map\n",
      "peak-values\n",
      "sum\n",
      "unique-values\n",
      "variable\n"
     ]
    }
   ],
   "source": [
    "for filename in sorted(glob.glob(base_dir + 'media/real-en/*.jpg')):\n",
    "    bname = os.path.basename(filename)[:-4]\n",
    "    print(bname)\n",
    "    alt_dir = data_dir + '/' + bname + '/'\n",
    "    alt_val_dir = val_dir + '/' + bname + '/'\n",
    "\n",
    "    im = Image.open(filename)\n",
    "    im = im.resize((224, 224), Image.ANTIALIAS)\n",
    "\n",
    "    # convert to numpy array\n",
    "    data = img_to_array(im)\n",
    "    # expand dimension to one sample\n",
    "    samples = expand_dims(data, 0)\n",
    "    # create image data augmentation generator\n",
    "    dflow = datagen.flow(samples, batch_size=1, save_to_dir=alt_dir,\n",
    "                         save_prefix=\"aug\", save_format=\"png\",)\n",
    "\n",
    "    k = 0\n",
    "    for batch in dflow:\n",
    "        k += 1\n",
    "        if k > 50:\n",
    "            break  # otherwise the generator would loop indefinitely\n",
    "\n",
    "    vflow = datagen.flow(samples, batch_size=1, save_to_dir=alt_val_dir,\n",
    "                         save_prefix=\"val\", save_format=\"png\",)\n",
    "\n",
    "    j = 0\n",
    "    for batch in vflow:\n",
    "        j += 1\n",
    "        if j > 10:\n",
    "            break  # otherwise the generator would loop indefinitely"
   ]
  },
  {
   "cell_type": "code",
   "execution_count": null,
   "metadata": {},
   "outputs": [],
   "source": []
  }
 ],
 "metadata": {
  "interpreter": {
   "hash": "916dbcbb3f70747c44a77c7bcd40155683ae19c65e1c03b4aa3499c5328201f1"
  },
  "kernelspec": {
   "display_name": "Python 3",
   "language": "python",
   "name": "python3"
  },
  "language_info": {
   "codemirror_mode": {
    "name": "ipython",
    "version": 3
   },
   "file_extension": ".py",
   "mimetype": "text/x-python",
   "name": "python",
   "nbconvert_exporter": "python",
   "pygments_lexer": "ipython3",
   "version": "3.8.5"
  },
  "toc": {
   "base_numbering": 1,
   "nav_menu": {},
   "number_sections": true,
   "sideBar": true,
   "skip_h1_title": false,
   "title_cell": "Table of Contents",
   "title_sidebar": "Contents",
   "toc_cell": false,
   "toc_position": {},
   "toc_section_display": true,
   "toc_window_display": false
  },
  "varInspector": {
   "cols": {
    "lenName": 16,
    "lenType": 16,
    "lenVar": 40
   },
   "kernels_config": {
    "python": {
     "delete_cmd_postfix": "",
     "delete_cmd_prefix": "del ",
     "library": "var_list.py",
     "varRefreshCmd": "print(var_dic_list())"
    },
    "r": {
     "delete_cmd_postfix": ") ",
     "delete_cmd_prefix": "rm(",
     "library": "var_list.r",
     "varRefreshCmd": "cat(var_dic_list()) "
    }
   },
   "types_to_exclude": [
    "module",
    "function",
    "builtin_function_or_method",
    "instance",
    "_Feature"
   ],
   "window_display": false
  }
 },
 "nbformat": 4,
 "nbformat_minor": 4
}
