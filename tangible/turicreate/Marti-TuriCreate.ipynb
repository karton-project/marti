{
 "cells": [
  {
   "cell_type": "markdown",
   "id": "099bea9b",
   "metadata": {},
   "source": [
    "# Creating Marti Card Recognizer for CoreML\n",
    "\n",
    "I tested the Turicreate to create a new classifier for CoreML, but the default classification strategy is not giving the best results. I will test again with new data augmentation strategies."
   ]
  },
  {
   "cell_type": "code",
   "execution_count": null,
   "id": "f00ab5ae",
   "metadata": {},
   "outputs": [],
   "source": [
    "import turicreate as tc"
   ]
  },
  {
   "cell_type": "code",
   "execution_count": null,
   "id": "b3cc10ae",
   "metadata": {},
   "outputs": [],
   "source": [
    "starter_images = tc.load_images('/Users/iuilab/Desktop/edu-repo/marti/media/cards-en')"
   ]
  },
  {
   "cell_type": "code",
   "execution_count": null,
   "id": "083b03c0",
   "metadata": {},
   "outputs": [],
   "source": [
    "starter_images"
   ]
  },
  {
   "cell_type": "code",
   "execution_count": null,
   "id": "c0942d09",
   "metadata": {},
   "outputs": [],
   "source": [
    "starter_images['label'] = starter_images['path'].element_slice(52, -4)"
   ]
  },
  {
   "cell_type": "code",
   "execution_count": null,
   "id": "616ec275",
   "metadata": {},
   "outputs": [],
   "source": [
    "starter_images"
   ]
  },
  {
   "cell_type": "code",
   "execution_count": null,
   "id": "d764887c",
   "metadata": {},
   "outputs": [],
   "source": [
    "starter_images.explore()"
   ]
  },
  {
   "cell_type": "code",
   "execution_count": null,
   "id": "93b15ee3",
   "metadata": {},
   "outputs": [],
   "source": [
    "#model = tc.one_shot_object_detector.create(starter_images, 'label')\n",
    "model = tc.load_model('marti_cards.model')"
   ]
  },
  {
   "cell_type": "code",
   "execution_count": null,
   "id": "db341ae9",
   "metadata": {},
   "outputs": [],
   "source": [
    "test_image = tc.Image('/Users/iuilab/Pictures/lol.jpg')\n",
    "test_image"
   ]
  },
  {
   "cell_type": "code",
   "execution_count": null,
   "id": "c9159baa",
   "metadata": {},
   "outputs": [],
   "source": [
    "prediction = model.predict(test_image)"
   ]
  },
  {
   "cell_type": "code",
   "execution_count": null,
   "id": "71e3bd08",
   "metadata": {},
   "outputs": [],
   "source": [
    "tc.one_shot_object_detector.util.draw_bounding_boxes(test_image, prediction)"
   ]
  },
  {
   "cell_type": "code",
   "execution_count": null,
   "id": "46e4c64d",
   "metadata": {},
   "outputs": [],
   "source": [
    "model.save('marti_cards.model')"
   ]
  },
  {
   "cell_type": "code",
   "execution_count": null,
   "id": "76aed791",
   "metadata": {},
   "outputs": [],
   "source": [
    "model.export_coreml('marticards.mlmodel')"
   ]
  },
  {
   "cell_type": "code",
   "execution_count": null,
   "id": "e97ddedf",
   "metadata": {},
   "outputs": [],
   "source": []
  }
 ],
 "metadata": {
  "kernelspec": {
   "display_name": "Python 3",
   "language": "python",
   "name": "python3"
  },
  "language_info": {
   "codemirror_mode": {
    "name": "ipython",
    "version": 3
   },
   "file_extension": ".py",
   "mimetype": "text/x-python",
   "name": "python",
   "nbconvert_exporter": "python",
   "pygments_lexer": "ipython3",
   "version": "3.6.13"
  }
 },
 "nbformat": 4,
 "nbformat_minor": 5
}
